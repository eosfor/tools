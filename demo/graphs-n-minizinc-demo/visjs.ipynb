{
 "cells": [
  {
   "cell_type": "code",
   "execution_count": null,
   "metadata": {
    "dotnet_interactive": {
     "language": "javascript"
    }
   },
   "outputs": [],
   "source": [
    "visRequire = interactive.configureRequire({\n",
    "    paths: {\n",
    "        visjs: \"https://visjs.github.io/vis-network/standalone/umd/vis-network.min.js\"\n",
    "    }\n",
    "});"
   ]
  },
  {
   "cell_type": "code",
   "execution_count": null,
   "metadata": {
    "dotnet_interactive": {
     "language": "javascript"
    }
   },
   "outputs": [
    {
     "data": {
      "text/html": [
       "<p>Network supports the DOT language.</p>\r\n",
       "<div id=\"mynetwork\"></div>"
      ]
     },
     "metadata": {},
     "output_type": "display_data"
    }
   ],
   "source": [
    "#!html\n",
    "<p>Network supports the DOT language.</p>\n",
    "<div id=\"mynetwork\"></div>"
   ]
  },
  {
   "cell_type": "code",
   "execution_count": null,
   "metadata": {
    "dotnet_interactive": {
     "language": "javascript"
    }
   },
   "outputs": [],
   "source": [
    "#!js\n",
    "    \n",
    "visRequire([\"visjs\"], visjs => {\n",
    "    var container = document.getElementById(\"mynetwork\");\n",
    "    var dot = \"dinetwork {node[shape=circle]; 1 -> 1 -> 2; 2 -> 3; 2 -- 4; 2 -> 1 }\";\n",
    "    var data = vis.parseDOTNetwork(dot);\n",
    "    var network = new vis.Network(container, data); \n",
    "});"
   ]
  }
 ],
 "metadata": {
  "kernelspec": {
   "display_name": ".NET (C#)",
   "language": "C#",
   "name": ".net-csharp"
  },
  "language_info": {
   "name": "C#"
  }
 },
 "nbformat": 4,
 "nbformat_minor": 2
}
